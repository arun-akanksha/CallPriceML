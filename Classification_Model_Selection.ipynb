{
  "cells": [
    {
      "cell_type": "code",
      "execution_count": null,
      "id": "e0883dc0",
      "metadata": {
        "id": "e0883dc0"
      },
      "outputs": [],
      "source": [
        "import numpy as np\n",
        "import pandas as pd\n",
        "from sklearn.model_selection import StratifiedKFold\n",
        "from sklearn.model_selection import KFold\n",
        "from sklearn.model_selection import cross_val_score\n",
        "from sklearn.neighbors import KNeighborsClassifier\n",
        "from sklearn.discriminant_analysis import LinearDiscriminantAnalysis\n",
        "from sklearn.linear_model import LogisticRegression\n",
        "from sklearn.naive_bayes import GaussianNB\n",
        "from sklearn.ensemble import RandomForestClassifier\n",
        "from sklearn.tree import DecisionTreeClassifier\n",
        "from sklearn import svm\n",
        "import xgboost as xgb\n",
        "from sklearn.model_selection import train_test_split"
      ]
    },
    {
      "cell_type": "code",
      "source": [
        "#We load the google colab packages\n",
        "from google.colab import drive\n",
        "\n",
        "# Then we load our drive #\n",
        "drive.mount('/content/drive')\n",
        "\n",
        "# We load the OS package which allows us to access the opperating system commands #\n",
        "import os\n",
        "\n",
        "# We change directory to the directory below - This will differ on your system #\n",
        "os.chdir(\"/content/drive/MyDrive/DSO 530 Project\")"
      ],
      "metadata": {
        "colab": {
          "base_uri": "https://localhost:8080/"
        },
        "id": "Oy1tWgX7u6d2",
        "outputId": "a6ed4bc4-dd56-4b7c-b857-5d9e4ed8d6e3"
      },
      "id": "Oy1tWgX7u6d2",
      "execution_count": null,
      "outputs": [
        {
          "output_type": "stream",
          "name": "stdout",
          "text": [
            "Drive already mounted at /content/drive; to attempt to forcibly remount, call drive.mount(\"/content/drive\", force_remount=True).\n"
          ]
        }
      ]
    },
    {
      "cell_type": "code",
      "execution_count": null,
      "id": "2ebea70f",
      "metadata": {
        "id": "2ebea70f"
      },
      "outputs": [],
      "source": [
        "df_train = pd.read_csv(\"option_train.csv\")\n",
        "df_train = df_train[df_train['tau'] <= 50]\n",
        "df_train = df_train[df_train['S'] <= 40000]\n",
        "df_train = df_train[df_train['S'] > 0]\n",
        "df_train['BS_updated'] = df_train['BS']\n",
        "df_train['BS_updated'] = df_train['BS_updated'].replace({'Over': 1, 'Under': 0})\n",
        "df_train = df_train.dropna()"
      ]
    },
    {
      "cell_type": "code",
      "source": [
        "df_train.head()"
      ],
      "metadata": {
        "colab": {
          "base_uri": "https://localhost:8080/",
          "height": 206
        },
        "id": "VXTSCLG9vLDN",
        "outputId": "d32aee4e-4e5d-4d57-f92c-201ee7290451"
      },
      "id": "VXTSCLG9vLDN",
      "execution_count": null,
      "outputs": [
        {
          "output_type": "execute_result",
          "data": {
            "text/plain": [
              "       Value           S      K       tau        r     BS  BS_updated\n",
              "0  21.670404  431.623898  420.0  0.341270  0.03013  Under           0\n",
              "1   0.125000  427.015526  465.0  0.166667  0.03126   Over           1\n",
              "2  20.691244  427.762336  415.0  0.265873  0.03116  Under           0\n",
              "3   1.035002  451.711658  460.0  0.063492  0.02972   Over           1\n",
              "4  39.553020  446.718974  410.0  0.166667  0.02962  Under           0"
            ],
            "text/html": [
              "\n",
              "  <div id=\"df-0949d28a-a5b1-4009-a45f-4c58c69a38c8\">\n",
              "    <div class=\"colab-df-container\">\n",
              "      <div>\n",
              "<style scoped>\n",
              "    .dataframe tbody tr th:only-of-type {\n",
              "        vertical-align: middle;\n",
              "    }\n",
              "\n",
              "    .dataframe tbody tr th {\n",
              "        vertical-align: top;\n",
              "    }\n",
              "\n",
              "    .dataframe thead th {\n",
              "        text-align: right;\n",
              "    }\n",
              "</style>\n",
              "<table border=\"1\" class=\"dataframe\">\n",
              "  <thead>\n",
              "    <tr style=\"text-align: right;\">\n",
              "      <th></th>\n",
              "      <th>Value</th>\n",
              "      <th>S</th>\n",
              "      <th>K</th>\n",
              "      <th>tau</th>\n",
              "      <th>r</th>\n",
              "      <th>BS</th>\n",
              "      <th>BS_updated</th>\n",
              "    </tr>\n",
              "  </thead>\n",
              "  <tbody>\n",
              "    <tr>\n",
              "      <th>0</th>\n",
              "      <td>21.670404</td>\n",
              "      <td>431.623898</td>\n",
              "      <td>420.0</td>\n",
              "      <td>0.341270</td>\n",
              "      <td>0.03013</td>\n",
              "      <td>Under</td>\n",
              "      <td>0</td>\n",
              "    </tr>\n",
              "    <tr>\n",
              "      <th>1</th>\n",
              "      <td>0.125000</td>\n",
              "      <td>427.015526</td>\n",
              "      <td>465.0</td>\n",
              "      <td>0.166667</td>\n",
              "      <td>0.03126</td>\n",
              "      <td>Over</td>\n",
              "      <td>1</td>\n",
              "    </tr>\n",
              "    <tr>\n",
              "      <th>2</th>\n",
              "      <td>20.691244</td>\n",
              "      <td>427.762336</td>\n",
              "      <td>415.0</td>\n",
              "      <td>0.265873</td>\n",
              "      <td>0.03116</td>\n",
              "      <td>Under</td>\n",
              "      <td>0</td>\n",
              "    </tr>\n",
              "    <tr>\n",
              "      <th>3</th>\n",
              "      <td>1.035002</td>\n",
              "      <td>451.711658</td>\n",
              "      <td>460.0</td>\n",
              "      <td>0.063492</td>\n",
              "      <td>0.02972</td>\n",
              "      <td>Over</td>\n",
              "      <td>1</td>\n",
              "    </tr>\n",
              "    <tr>\n",
              "      <th>4</th>\n",
              "      <td>39.553020</td>\n",
              "      <td>446.718974</td>\n",
              "      <td>410.0</td>\n",
              "      <td>0.166667</td>\n",
              "      <td>0.02962</td>\n",
              "      <td>Under</td>\n",
              "      <td>0</td>\n",
              "    </tr>\n",
              "  </tbody>\n",
              "</table>\n",
              "</div>\n",
              "      <button class=\"colab-df-convert\" onclick=\"convertToInteractive('df-0949d28a-a5b1-4009-a45f-4c58c69a38c8')\"\n",
              "              title=\"Convert this dataframe to an interactive table.\"\n",
              "              style=\"display:none;\">\n",
              "        \n",
              "  <svg xmlns=\"http://www.w3.org/2000/svg\" height=\"24px\"viewBox=\"0 0 24 24\"\n",
              "       width=\"24px\">\n",
              "    <path d=\"M0 0h24v24H0V0z\" fill=\"none\"/>\n",
              "    <path d=\"M18.56 5.44l.94 2.06.94-2.06 2.06-.94-2.06-.94-.94-2.06-.94 2.06-2.06.94zm-11 1L8.5 8.5l.94-2.06 2.06-.94-2.06-.94L8.5 2.5l-.94 2.06-2.06.94zm10 10l.94 2.06.94-2.06 2.06-.94-2.06-.94-.94-2.06-.94 2.06-2.06.94z\"/><path d=\"M17.41 7.96l-1.37-1.37c-.4-.4-.92-.59-1.43-.59-.52 0-1.04.2-1.43.59L10.3 9.45l-7.72 7.72c-.78.78-.78 2.05 0 2.83L4 21.41c.39.39.9.59 1.41.59.51 0 1.02-.2 1.41-.59l7.78-7.78 2.81-2.81c.8-.78.8-2.07 0-2.86zM5.41 20L4 18.59l7.72-7.72 1.47 1.35L5.41 20z\"/>\n",
              "  </svg>\n",
              "      </button>\n",
              "      \n",
              "  <style>\n",
              "    .colab-df-container {\n",
              "      display:flex;\n",
              "      flex-wrap:wrap;\n",
              "      gap: 12px;\n",
              "    }\n",
              "\n",
              "    .colab-df-convert {\n",
              "      background-color: #E8F0FE;\n",
              "      border: none;\n",
              "      border-radius: 50%;\n",
              "      cursor: pointer;\n",
              "      display: none;\n",
              "      fill: #1967D2;\n",
              "      height: 32px;\n",
              "      padding: 0 0 0 0;\n",
              "      width: 32px;\n",
              "    }\n",
              "\n",
              "    .colab-df-convert:hover {\n",
              "      background-color: #E2EBFA;\n",
              "      box-shadow: 0px 1px 2px rgba(60, 64, 67, 0.3), 0px 1px 3px 1px rgba(60, 64, 67, 0.15);\n",
              "      fill: #174EA6;\n",
              "    }\n",
              "\n",
              "    [theme=dark] .colab-df-convert {\n",
              "      background-color: #3B4455;\n",
              "      fill: #D2E3FC;\n",
              "    }\n",
              "\n",
              "    [theme=dark] .colab-df-convert:hover {\n",
              "      background-color: #434B5C;\n",
              "      box-shadow: 0px 1px 3px 1px rgba(0, 0, 0, 0.15);\n",
              "      filter: drop-shadow(0px 1px 2px rgba(0, 0, 0, 0.3));\n",
              "      fill: #FFFFFF;\n",
              "    }\n",
              "  </style>\n",
              "\n",
              "      <script>\n",
              "        const buttonEl =\n",
              "          document.querySelector('#df-0949d28a-a5b1-4009-a45f-4c58c69a38c8 button.colab-df-convert');\n",
              "        buttonEl.style.display =\n",
              "          google.colab.kernel.accessAllowed ? 'block' : 'none';\n",
              "\n",
              "        async function convertToInteractive(key) {\n",
              "          const element = document.querySelector('#df-0949d28a-a5b1-4009-a45f-4c58c69a38c8');\n",
              "          const dataTable =\n",
              "            await google.colab.kernel.invokeFunction('convertToInteractive',\n",
              "                                                     [key], {});\n",
              "          if (!dataTable) return;\n",
              "\n",
              "          const docLinkHtml = 'Like what you see? Visit the ' +\n",
              "            '<a target=\"_blank\" href=https://colab.research.google.com/notebooks/data_table.ipynb>data table notebook</a>'\n",
              "            + ' to learn more about interactive tables.';\n",
              "          element.innerHTML = '';\n",
              "          dataTable['output_type'] = 'display_data';\n",
              "          await google.colab.output.renderOutput(dataTable, element);\n",
              "          const docLink = document.createElement('div');\n",
              "          docLink.innerHTML = docLinkHtml;\n",
              "          element.appendChild(docLink);\n",
              "        }\n",
              "      </script>\n",
              "    </div>\n",
              "  </div>\n",
              "  "
            ]
          },
          "metadata": {},
          "execution_count": 113
        }
      ]
    },
    {
      "cell_type": "code",
      "execution_count": null,
      "id": "046a15eb",
      "metadata": {
        "id": "046a15eb",
        "outputId": "6eb669c1-7602-409a-a31e-d6e5fe288c4f",
        "colab": {
          "base_uri": "https://localhost:8080/",
          "height": 300
        }
      },
      "outputs": [
        {
          "output_type": "execute_result",
          "data": {
            "text/plain": [
              "             Value            S            K          tau            r  \\\n",
              "count  1673.000000  1673.000000  1673.000000  1673.000000  1673.000000   \n",
              "mean     15.096361   440.900850   438.215780     0.202023     0.030235   \n",
              "std      14.050476     7.529079    23.420806     0.099814     0.000557   \n",
              "min       0.125000   425.472331   375.000000     0.003968     0.029510   \n",
              "25%       2.220002   433.863864   420.000000     0.119048     0.029820   \n",
              "50%      11.250000   442.525366   440.000000     0.202381     0.030130   \n",
              "75%      25.819526   447.320414   455.000000     0.285714     0.030540   \n",
              "max      60.149367   455.880619   500.000000     0.392857     0.031880   \n",
              "\n",
              "        BS_updated  \n",
              "count  1673.000000  \n",
              "mean      0.435744  \n",
              "std       0.496002  \n",
              "min       0.000000  \n",
              "25%       0.000000  \n",
              "50%       0.000000  \n",
              "75%       1.000000  \n",
              "max       1.000000  "
            ],
            "text/html": [
              "\n",
              "  <div id=\"df-c0239c95-f325-463e-a71f-de6bc4ed491d\">\n",
              "    <div class=\"colab-df-container\">\n",
              "      <div>\n",
              "<style scoped>\n",
              "    .dataframe tbody tr th:only-of-type {\n",
              "        vertical-align: middle;\n",
              "    }\n",
              "\n",
              "    .dataframe tbody tr th {\n",
              "        vertical-align: top;\n",
              "    }\n",
              "\n",
              "    .dataframe thead th {\n",
              "        text-align: right;\n",
              "    }\n",
              "</style>\n",
              "<table border=\"1\" class=\"dataframe\">\n",
              "  <thead>\n",
              "    <tr style=\"text-align: right;\">\n",
              "      <th></th>\n",
              "      <th>Value</th>\n",
              "      <th>S</th>\n",
              "      <th>K</th>\n",
              "      <th>tau</th>\n",
              "      <th>r</th>\n",
              "      <th>BS_updated</th>\n",
              "    </tr>\n",
              "  </thead>\n",
              "  <tbody>\n",
              "    <tr>\n",
              "      <th>count</th>\n",
              "      <td>1673.000000</td>\n",
              "      <td>1673.000000</td>\n",
              "      <td>1673.000000</td>\n",
              "      <td>1673.000000</td>\n",
              "      <td>1673.000000</td>\n",
              "      <td>1673.000000</td>\n",
              "    </tr>\n",
              "    <tr>\n",
              "      <th>mean</th>\n",
              "      <td>15.096361</td>\n",
              "      <td>440.900850</td>\n",
              "      <td>438.215780</td>\n",
              "      <td>0.202023</td>\n",
              "      <td>0.030235</td>\n",
              "      <td>0.435744</td>\n",
              "    </tr>\n",
              "    <tr>\n",
              "      <th>std</th>\n",
              "      <td>14.050476</td>\n",
              "      <td>7.529079</td>\n",
              "      <td>23.420806</td>\n",
              "      <td>0.099814</td>\n",
              "      <td>0.000557</td>\n",
              "      <td>0.496002</td>\n",
              "    </tr>\n",
              "    <tr>\n",
              "      <th>min</th>\n",
              "      <td>0.125000</td>\n",
              "      <td>425.472331</td>\n",
              "      <td>375.000000</td>\n",
              "      <td>0.003968</td>\n",
              "      <td>0.029510</td>\n",
              "      <td>0.000000</td>\n",
              "    </tr>\n",
              "    <tr>\n",
              "      <th>25%</th>\n",
              "      <td>2.220002</td>\n",
              "      <td>433.863864</td>\n",
              "      <td>420.000000</td>\n",
              "      <td>0.119048</td>\n",
              "      <td>0.029820</td>\n",
              "      <td>0.000000</td>\n",
              "    </tr>\n",
              "    <tr>\n",
              "      <th>50%</th>\n",
              "      <td>11.250000</td>\n",
              "      <td>442.525366</td>\n",
              "      <td>440.000000</td>\n",
              "      <td>0.202381</td>\n",
              "      <td>0.030130</td>\n",
              "      <td>0.000000</td>\n",
              "    </tr>\n",
              "    <tr>\n",
              "      <th>75%</th>\n",
              "      <td>25.819526</td>\n",
              "      <td>447.320414</td>\n",
              "      <td>455.000000</td>\n",
              "      <td>0.285714</td>\n",
              "      <td>0.030540</td>\n",
              "      <td>1.000000</td>\n",
              "    </tr>\n",
              "    <tr>\n",
              "      <th>max</th>\n",
              "      <td>60.149367</td>\n",
              "      <td>455.880619</td>\n",
              "      <td>500.000000</td>\n",
              "      <td>0.392857</td>\n",
              "      <td>0.031880</td>\n",
              "      <td>1.000000</td>\n",
              "    </tr>\n",
              "  </tbody>\n",
              "</table>\n",
              "</div>\n",
              "      <button class=\"colab-df-convert\" onclick=\"convertToInteractive('df-c0239c95-f325-463e-a71f-de6bc4ed491d')\"\n",
              "              title=\"Convert this dataframe to an interactive table.\"\n",
              "              style=\"display:none;\">\n",
              "        \n",
              "  <svg xmlns=\"http://www.w3.org/2000/svg\" height=\"24px\"viewBox=\"0 0 24 24\"\n",
              "       width=\"24px\">\n",
              "    <path d=\"M0 0h24v24H0V0z\" fill=\"none\"/>\n",
              "    <path d=\"M18.56 5.44l.94 2.06.94-2.06 2.06-.94-2.06-.94-.94-2.06-.94 2.06-2.06.94zm-11 1L8.5 8.5l.94-2.06 2.06-.94-2.06-.94L8.5 2.5l-.94 2.06-2.06.94zm10 10l.94 2.06.94-2.06 2.06-.94-2.06-.94-.94-2.06-.94 2.06-2.06.94z\"/><path d=\"M17.41 7.96l-1.37-1.37c-.4-.4-.92-.59-1.43-.59-.52 0-1.04.2-1.43.59L10.3 9.45l-7.72 7.72c-.78.78-.78 2.05 0 2.83L4 21.41c.39.39.9.59 1.41.59.51 0 1.02-.2 1.41-.59l7.78-7.78 2.81-2.81c.8-.78.8-2.07 0-2.86zM5.41 20L4 18.59l7.72-7.72 1.47 1.35L5.41 20z\"/>\n",
              "  </svg>\n",
              "      </button>\n",
              "      \n",
              "  <style>\n",
              "    .colab-df-container {\n",
              "      display:flex;\n",
              "      flex-wrap:wrap;\n",
              "      gap: 12px;\n",
              "    }\n",
              "\n",
              "    .colab-df-convert {\n",
              "      background-color: #E8F0FE;\n",
              "      border: none;\n",
              "      border-radius: 50%;\n",
              "      cursor: pointer;\n",
              "      display: none;\n",
              "      fill: #1967D2;\n",
              "      height: 32px;\n",
              "      padding: 0 0 0 0;\n",
              "      width: 32px;\n",
              "    }\n",
              "\n",
              "    .colab-df-convert:hover {\n",
              "      background-color: #E2EBFA;\n",
              "      box-shadow: 0px 1px 2px rgba(60, 64, 67, 0.3), 0px 1px 3px 1px rgba(60, 64, 67, 0.15);\n",
              "      fill: #174EA6;\n",
              "    }\n",
              "\n",
              "    [theme=dark] .colab-df-convert {\n",
              "      background-color: #3B4455;\n",
              "      fill: #D2E3FC;\n",
              "    }\n",
              "\n",
              "    [theme=dark] .colab-df-convert:hover {\n",
              "      background-color: #434B5C;\n",
              "      box-shadow: 0px 1px 3px 1px rgba(0, 0, 0, 0.15);\n",
              "      filter: drop-shadow(0px 1px 2px rgba(0, 0, 0, 0.3));\n",
              "      fill: #FFFFFF;\n",
              "    }\n",
              "  </style>\n",
              "\n",
              "      <script>\n",
              "        const buttonEl =\n",
              "          document.querySelector('#df-c0239c95-f325-463e-a71f-de6bc4ed491d button.colab-df-convert');\n",
              "        buttonEl.style.display =\n",
              "          google.colab.kernel.accessAllowed ? 'block' : 'none';\n",
              "\n",
              "        async function convertToInteractive(key) {\n",
              "          const element = document.querySelector('#df-c0239c95-f325-463e-a71f-de6bc4ed491d');\n",
              "          const dataTable =\n",
              "            await google.colab.kernel.invokeFunction('convertToInteractive',\n",
              "                                                     [key], {});\n",
              "          if (!dataTable) return;\n",
              "\n",
              "          const docLinkHtml = 'Like what you see? Visit the ' +\n",
              "            '<a target=\"_blank\" href=https://colab.research.google.com/notebooks/data_table.ipynb>data table notebook</a>'\n",
              "            + ' to learn more about interactive tables.';\n",
              "          element.innerHTML = '';\n",
              "          dataTable['output_type'] = 'display_data';\n",
              "          await google.colab.output.renderOutput(dataTable, element);\n",
              "          const docLink = document.createElement('div');\n",
              "          docLink.innerHTML = docLinkHtml;\n",
              "          element.appendChild(docLink);\n",
              "        }\n",
              "      </script>\n",
              "    </div>\n",
              "  </div>\n",
              "  "
            ]
          },
          "metadata": {},
          "execution_count": 114
        }
      ],
      "source": [
        "df_train.describe()"
      ]
    },
    {
      "cell_type": "code",
      "execution_count": null,
      "id": "6d3cca95",
      "metadata": {
        "id": "6d3cca95"
      },
      "outputs": [],
      "source": [
        "result_df = pd.DataFrame(columns = ['Classifier', 'Error %'])"
      ]
    },
    {
      "cell_type": "code",
      "source": [
        "X, y = df_train[['S','K','tau','r']].values, df_train['BS_updated'].values\n",
        "\n",
        "kfold = StratifiedKFold(n_splits = 5, random_state = 42, shuffle = True)"
      ],
      "metadata": {
        "id": "tbwljuESvg4F"
      },
      "id": "tbwljuESvg4F",
      "execution_count": null,
      "outputs": []
    },
    {
      "cell_type": "code",
      "source": [
        "X_reshape = X.reshape(-1,1)\n",
        "print(X_reshape)"
      ],
      "metadata": {
        "colab": {
          "base_uri": "https://localhost:8080/"
        },
        "id": "0hsnqxEjw0un",
        "outputId": "1670c4de-d4d8-42d4-9b80-e1cb57478be8"
      },
      "id": "0hsnqxEjw0un",
      "execution_count": null,
      "outputs": [
        {
          "output_type": "stream",
          "name": "stdout",
          "text": [
            "[[4.31623898e+02]\n",
            " [4.20000000e+02]\n",
            " [3.41269841e-01]\n",
            " ...\n",
            " [4.65000000e+02]\n",
            " [2.18253968e-01]\n",
            " [2.99300000e-02]]\n"
          ]
        }
      ]
    },
    {
      "cell_type": "markdown",
      "source": [
        "# Create standardized data based on the predictors X, i.e. ['S','K','tau','r']"
      ],
      "metadata": {
        "id": "S9Zt3ctbJofK"
      },
      "id": "S9Zt3ctbJofK"
    },
    {
      "cell_type": "code",
      "source": [
        "from sklearn.preprocessing import StandardScaler\n",
        "stdsc = StandardScaler()\n",
        "X_standardized = stdsc.fit_transform(X_reshape)\n",
        "\n",
        "# restore X's original dimension so we can use cross_val_score() function\n",
        "X_correct_dimensions = X_standardized.reshape(-1,4)\n",
        "print(X_correct_dimensions)"
      ],
      "metadata": {
        "colab": {
          "base_uri": "https://localhost:8080/"
        },
        "id": "6eK55sWiwhSM",
        "outputId": "f09f128e-03a1-47aa-90c4-d892d9e38eb4"
      },
      "id": "6eK55sWiwhSM",
      "execution_count": null,
      "outputs": [
        {
          "output_type": "stream",
          "name": "stdout",
          "text": [
            "[[ 0.96237366  0.90955384 -0.99740515 -0.998819  ]\n",
            " [ 0.94143289  1.11403703 -0.99819856 -0.99881386]\n",
            " [ 0.94482645  0.88683349 -0.99774776 -0.99881432]\n",
            " ...\n",
            " [ 0.94609825  0.77323172 -0.99818053 -0.99881104]\n",
            " [ 0.99626018  1.18219809 -0.99762154 -0.99882131]\n",
            " [ 0.9648447   1.11403703 -0.99796415 -0.99881991]]\n"
          ]
        }
      ]
    },
    {
      "cell_type": "code",
      "execution_count": null,
      "id": "507dfd95",
      "metadata": {
        "id": "507dfd95",
        "outputId": "9dc5f0ef-a9f6-4893-bf05-4a950ca183f7",
        "colab": {
          "base_uri": "https://localhost:8080/"
        }
      },
      "outputs": [
        {
          "output_type": "stream",
          "name": "stdout",
          "text": [
            "KNN Classifier Error List for KFolds :  [0.07462686567164178, 0.09253731343283578, 0.11641791044776117, 0.08383233532934131, 0.09880239520958078] \n",
            "\n",
            "Mean Classification Error :  0.0932\n"
          ]
        }
      ],
      "source": [
        "#KNN\n",
        "\n",
        "knn = KNeighborsClassifier()\n",
        "\n",
        "accuracy = cross_val_score(knn, X, y, cv=kfold, scoring = 'accuracy')\n",
        "\n",
        "error_list = [1 - x for x in accuracy]\n",
        "\n",
        "print('KNN Classifier Error List for KFolds : ', error_list,\n",
        "      '\\n\\nMean Classification Error : ', round(np.mean(error_list),4)\n",
        ")\n",
        "\n",
        "result_df.loc[len(result_df.index)] = ['KNN', ((round(np.mean(error_list),4))) * 100]"
      ]
    },
    {
      "cell_type": "markdown",
      "source": [
        "# Now we want to run KNN using standardized data\n",
        "\n",
        "- Note that the mean R-squared of 5-fold CV does Not change when we use standardized data."
      ],
      "metadata": {
        "id": "ptimML2T0XOb"
      },
      "id": "ptimML2T0XOb"
    },
    {
      "cell_type": "code",
      "source": [
        "knn_1 = KNeighborsClassifier()\n",
        "\n",
        "accuracy = cross_val_score(knn_1, X_correct_dimensions, y, cv=kfold)\n",
        "\n",
        "error_list = [1 - x for x in accuracy]\n",
        "\n",
        "print('KNN (after standardization) Classifier Error List for KFolds : ', error_list,\n",
        "      '\\n\\nMean Classification Error : ', round(np.mean(error_list),4)\n",
        ")"
      ],
      "metadata": {
        "colab": {
          "base_uri": "https://localhost:8080/"
        },
        "id": "hv6vfe7pxFOO",
        "outputId": "fdecf29c-32d4-493a-cfa3-f513513648e5"
      },
      "id": "hv6vfe7pxFOO",
      "execution_count": null,
      "outputs": [
        {
          "output_type": "stream",
          "name": "stdout",
          "text": [
            "KNN (after standardization) Classifier Error List for KFolds :  [0.07462686567164178, 0.09253731343283578, 0.11641791044776117, 0.08383233532934131, 0.09880239520958078] \n",
            "\n",
            "Mean Classification Error :  0.0932\n"
          ]
        }
      ]
    },
    {
      "cell_type": "code",
      "execution_count": null,
      "id": "0c5d5681",
      "metadata": {
        "id": "0c5d5681",
        "outputId": "d2bfda30-6282-4f24-cc87-797cbfab9280",
        "colab": {
          "base_uri": "https://localhost:8080/"
        }
      },
      "outputs": [
        {
          "output_type": "stream",
          "name": "stdout",
          "text": [
            "Logistic Classifier Error List for KFolds :  [0.07462686567164178, 0.09253731343283578, 0.09253731343283578, 0.06886227544910184, 0.11976047904191611] \n",
            "\n",
            "Mean Classification Error :  0.0897\n"
          ]
        }
      ],
      "source": [
        "#Logistic\n",
        "\n",
        "logreg = LogisticRegression()\n",
        "\n",
        "\n",
        "accuracy = cross_val_score(logreg, X, y, cv=kfold)\n",
        "\n",
        "\n",
        "error_list = [1 - x for x in accuracy]\n",
        "\n",
        "print('Logistic Classifier Error List for KFolds : ', error_list,\n",
        "      '\\n\\nMean Classification Error : ', round(np.mean(error_list),4)\n",
        ")\n",
        "\n",
        "result_df.loc[len(result_df.index)] = ['Logistic', ((round(np.mean(error_list),4))) * 100]"
      ]
    },
    {
      "cell_type": "markdown",
      "source": [
        "# Now we want to run Logistic model using standardized data"
      ],
      "metadata": {
        "id": "hGR9CFrZ0U98"
      },
      "id": "hGR9CFrZ0U98"
    },
    {
      "cell_type": "code",
      "source": [
        "logreg_1 = LogisticRegression()\n",
        "\n",
        "\n",
        "accuracy = cross_val_score(logreg_1, X_correct_dimensions, y, cv=kfold)\n",
        "\n",
        "\n",
        "error_list = [1 - x for x in accuracy]\n",
        "\n",
        "print('Logistic Classifier (after standardization) Error List for KFolds : ', error_list,\n",
        "      '\\n\\nMean Classification Error : ', round(np.mean(error_list),4)\n",
        ")\n"
      ],
      "metadata": {
        "colab": {
          "base_uri": "https://localhost:8080/"
        },
        "id": "PIdzDrQh0Pt7",
        "outputId": "362d8e8a-7a9e-4204-a622-35e3202f0f8e"
      },
      "id": "PIdzDrQh0Pt7",
      "execution_count": null,
      "outputs": [
        {
          "output_type": "stream",
          "name": "stdout",
          "text": [
            "Logistic Classifier (after standardization) Error List for KFolds :  [0.11044776119402988, 0.11940298507462688, 0.13432835820895528, 0.09281437125748504, 0.11976047904191611] \n",
            "\n",
            "Mean Classification Error :  0.1154\n"
          ]
        }
      ]
    },
    {
      "cell_type": "code",
      "execution_count": null,
      "id": "38a42e00",
      "metadata": {
        "id": "38a42e00",
        "outputId": "bc355e19-eaf2-4969-baf5-df24e124a69a",
        "colab": {
          "base_uri": "https://localhost:8080/"
        }
      },
      "outputs": [
        {
          "output_type": "stream",
          "name": "stdout",
          "text": [
            "LDA Classifier Error List for KFolds :  [0.06865671641791049, 0.09850746268656718, 0.09253731343283578, 0.06886227544910184, 0.11976047904191611] \n",
            "\n",
            "Mean Classification Error :  0.0897\n"
          ]
        }
      ],
      "source": [
        "#LDA\n",
        "\n",
        "lda = LinearDiscriminantAnalysis()\n",
        "\n",
        "accuracy = cross_val_score(lda, X, y, cv=kfold)\n",
        "\n",
        "\n",
        "error_list = [1 - x for x in accuracy]\n",
        "\n",
        "print('LDA Classifier Error List for KFolds : ', error_list,\n",
        "      '\\n\\nMean Classification Error : ', round(np.mean(error_list),4)\n",
        ")\n",
        "\n",
        "result_df.loc[len(result_df.index)] = ['LDA', ((round(np.mean(error_list),4))) * 100]"
      ]
    },
    {
      "cell_type": "code",
      "execution_count": null,
      "id": "7fbf6a63",
      "metadata": {
        "id": "7fbf6a63",
        "outputId": "6cbcd379-8e7e-4788-e019-59debdd293f6",
        "colab": {
          "base_uri": "https://localhost:8080/"
        }
      },
      "outputs": [
        {
          "output_type": "stream",
          "name": "stdout",
          "text": [
            "Naive Bayes Classifier Error List for KFolds :  [0.10447761194029848, 0.13432835820895528, 0.14328358208955227, 0.08682634730538918, 0.12574850299401197] \n",
            "\n",
            "Mean Classification Error :  0.1189\n"
          ]
        }
      ],
      "source": [
        "#Naive Bayes\n",
        "\n",
        "nb = GaussianNB()\n",
        "\n",
        "accuracy = cross_val_score(nb, X, y, cv=kfold)\n",
        "\n",
        "\n",
        "error_list = [1 - x for x in accuracy]\n",
        "\n",
        "print('Naive Bayes Classifier Error List for KFolds : ', error_list,\n",
        "      '\\n\\nMean Classification Error : ', round(np.mean(error_list),4)\n",
        ")\n",
        "\n",
        "result_df.loc[len(result_df.index)] = ['Naive Bayes', ((round(np.mean(error_list),4))) * 100]"
      ]
    },
    {
      "cell_type": "code",
      "execution_count": null,
      "id": "0baf8870",
      "metadata": {
        "id": "0baf8870",
        "outputId": "c8e4bc0f-8ae0-4051-d603-1222cee90905",
        "colab": {
          "base_uri": "https://localhost:8080/"
        }
      },
      "outputs": [
        {
          "output_type": "stream",
          "name": "stdout",
          "text": [
            "Random Forest Classifier Error List for KFolds :  [0.06268656716417909, 0.047761194029850795, 0.09850746268656718, 0.05688622754491013, 0.07485029940119758] \n",
            "\n",
            "Mean Classification Error :  0.0681\n"
          ]
        }
      ],
      "source": [
        "#Random Forest\n",
        "rf = RandomForestClassifier(n_estimators=100, max_depth=20)\n",
        "\n",
        "accuracy = cross_val_score(rf, X, y, cv=kfold)\n",
        "\n",
        "\n",
        "error_list = [1 - x for x in accuracy]\n",
        "\n",
        "print('Random Forest Classifier Error List for KFolds : ', error_list,\n",
        "      '\\n\\nMean Classification Error : ', round(np.mean(error_list),4)\n",
        ")\n",
        "\n",
        "result_df.loc[len(result_df.index)] = ['Random Forest', ((round(np.mean(error_list),4))) * 100]"
      ]
    },
    {
      "cell_type": "code",
      "execution_count": null,
      "id": "9f365e6c",
      "metadata": {
        "id": "9f365e6c",
        "outputId": "c68e2c79-f0b4-4be4-8097-b6d695ec35cf",
        "colab": {
          "base_uri": "https://localhost:8080/"
        }
      },
      "outputs": [
        {
          "output_type": "stream",
          "name": "stdout",
          "text": [
            "Decision Tree Classifier Error List for KFolds :  [0.06567164179104479, 0.08656716417910448, 0.10447761194029848, 0.05688622754491013, 0.08383233532934131] \n",
            "\n",
            "Mean Classification Error :  0.0795\n"
          ]
        }
      ],
      "source": [
        "#Decison Tree\n",
        "\n",
        "dt = DecisionTreeClassifier(max_depth = 25)\n",
        "\n",
        "accuracy = cross_val_score(dt, X, y, cv=kfold)\n",
        "\n",
        "\n",
        "error_list = [1 - x for x in accuracy]\n",
        "\n",
        "print('Decision Tree Classifier Error List for KFolds : ', error_list,\n",
        "      '\\n\\nMean Classification Error : ', round(np.mean(error_list),4)\n",
        ")\n",
        "\n",
        "result_df.loc[len(result_df.index)] = ['Decision Tree', ((round(np.mean(error_list),4))) * 100]"
      ]
    },
    {
      "cell_type": "code",
      "execution_count": null,
      "id": "b00c6145",
      "metadata": {
        "id": "b00c6145",
        "outputId": "3127bed7-780a-402e-8500-0e39ce868729",
        "colab": {
          "base_uri": "https://localhost:8080/"
        }
      },
      "outputs": [
        {
          "output_type": "stream",
          "name": "stdout",
          "text": [
            "SVM Classifier Error List for KFolds :  [0.07462686567164178, 0.09552238805970148, 0.08955223880597019, 0.06886227544910184, 0.11676646706586824] \n",
            "\n",
            "Mean Classification Error :  0.0891\n"
          ]
        }
      ],
      "source": [
        "#SVM\n",
        "clf = svm.SVC(kernel='linear', C=1, random_state=42)\n",
        "\n",
        "\n",
        "accuracy = cross_val_score(clf, X, y, cv=kfold)\n",
        "\n",
        "\n",
        "error_list = [1 - x for x in accuracy]\n",
        "\n",
        "print('SVM Classifier Error List for KFolds : ', error_list,\n",
        "      '\\n\\nMean Classification Error : ', round(np.mean(error_list),4)\n",
        ")\n",
        "\n",
        "result_df.loc[len(result_df.index)] = ['SVM', ((round(np.mean(error_list),4))) * 100]"
      ]
    },
    {
      "cell_type": "markdown",
      "source": [
        "# Now we want to run SVM model using standardized data"
      ],
      "metadata": {
        "id": "zIgPI6cI1SHs"
      },
      "id": "zIgPI6cI1SHs"
    },
    {
      "cell_type": "code",
      "source": [
        "clf_1 = svm.SVC(kernel='linear', C=1, random_state=42)\n",
        "\n",
        "accuracy = cross_val_score(clf_1, X_correct_dimensions, y, cv=kfold)\n",
        "\n",
        "error_list = [1 - x for x in accuracy]\n",
        "\n",
        "print('SVM Classifier (after standardization) Error List for KFolds : ', error_list,\n",
        "      '\\n\\nMean Classification Error : ', round(np.mean(error_list),4)\n",
        ")"
      ],
      "metadata": {
        "colab": {
          "base_uri": "https://localhost:8080/"
        },
        "id": "BmrvI2lt1HjD",
        "outputId": "a7dce559-c9d8-4846-bdb6-3bc663a5303c"
      },
      "id": "BmrvI2lt1HjD",
      "execution_count": null,
      "outputs": [
        {
          "output_type": "stream",
          "name": "stdout",
          "text": [
            "SVM Classifier (after standardization) Error List for KFolds :  [0.09253731343283578, 0.11044776119402988, 0.11641791044776117, 0.06586826347305386, 0.10479041916167664] \n",
            "\n",
            "Mean Classification Error :  0.098\n"
          ]
        }
      ]
    },
    {
      "cell_type": "code",
      "execution_count": null,
      "id": "12163fe7",
      "metadata": {
        "id": "12163fe7",
        "outputId": "c6ff2b0e-c924-4bd9-cec1-0680afcd7c86",
        "colab": {
          "base_uri": "https://localhost:8080/"
        }
      },
      "outputs": [
        {
          "output_type": "stream",
          "name": "stdout",
          "text": [
            "XGBoost Classifier Error List for KFolds :  [0.04477611940298509, 0.06567164179104479, 0.07462686567164178, 0.05988023952095811, 0.09580838323353291] \n",
            "\n",
            "Mean Classification Error :  0.0682\n"
          ]
        }
      ],
      "source": [
        "#XGBoost\n",
        "\n",
        "xgb_clf = xgb.XGBClassifier(objective='binary:logistic', random_state=42)\n",
        "\n",
        "accuracy = cross_val_score(xgb_clf, X, y, cv=kfold)\n",
        "\n",
        "\n",
        "error_list = [1 - x for x in accuracy]\n",
        "\n",
        "print('XGBoost Classifier Error List for KFolds : ', error_list,\n",
        "      '\\n\\nMean Classification Error : ', round(np.mean(error_list),4)\n",
        ")\n",
        "\n",
        "result_df.loc[len(result_df.index)] = ['XGB', ((round(np.mean(error_list),4))) * 100]"
      ]
    },
    {
      "cell_type": "code",
      "execution_count": null,
      "id": "98fb401d",
      "metadata": {
        "id": "98fb401d",
        "outputId": "e3fa2f67-7e4a-44a7-9601-c49106fbffd1",
        "colab": {
          "base_uri": "https://localhost:8080/",
          "height": 300
        }
      },
      "outputs": [
        {
          "output_type": "execute_result",
          "data": {
            "text/plain": [
              "      Classifier  Error %\n",
              "0            KNN     9.32\n",
              "1       Logistic     8.97\n",
              "2            LDA     8.97\n",
              "3    Naive Bayes    11.89\n",
              "4  Random Forest     6.81\n",
              "5  Decision Tree     7.95\n",
              "6            SVM     8.91\n",
              "7            XGB     6.82"
            ],
            "text/html": [
              "\n",
              "  <div id=\"df-b53ffca0-1feb-4605-bd66-97092b916510\">\n",
              "    <div class=\"colab-df-container\">\n",
              "      <div>\n",
              "<style scoped>\n",
              "    .dataframe tbody tr th:only-of-type {\n",
              "        vertical-align: middle;\n",
              "    }\n",
              "\n",
              "    .dataframe tbody tr th {\n",
              "        vertical-align: top;\n",
              "    }\n",
              "\n",
              "    .dataframe thead th {\n",
              "        text-align: right;\n",
              "    }\n",
              "</style>\n",
              "<table border=\"1\" class=\"dataframe\">\n",
              "  <thead>\n",
              "    <tr style=\"text-align: right;\">\n",
              "      <th></th>\n",
              "      <th>Classifier</th>\n",
              "      <th>Error %</th>\n",
              "    </tr>\n",
              "  </thead>\n",
              "  <tbody>\n",
              "    <tr>\n",
              "      <th>0</th>\n",
              "      <td>KNN</td>\n",
              "      <td>9.32</td>\n",
              "    </tr>\n",
              "    <tr>\n",
              "      <th>1</th>\n",
              "      <td>Logistic</td>\n",
              "      <td>8.97</td>\n",
              "    </tr>\n",
              "    <tr>\n",
              "      <th>2</th>\n",
              "      <td>LDA</td>\n",
              "      <td>8.97</td>\n",
              "    </tr>\n",
              "    <tr>\n",
              "      <th>3</th>\n",
              "      <td>Naive Bayes</td>\n",
              "      <td>11.89</td>\n",
              "    </tr>\n",
              "    <tr>\n",
              "      <th>4</th>\n",
              "      <td>Random Forest</td>\n",
              "      <td>6.81</td>\n",
              "    </tr>\n",
              "    <tr>\n",
              "      <th>5</th>\n",
              "      <td>Decision Tree</td>\n",
              "      <td>7.95</td>\n",
              "    </tr>\n",
              "    <tr>\n",
              "      <th>6</th>\n",
              "      <td>SVM</td>\n",
              "      <td>8.91</td>\n",
              "    </tr>\n",
              "    <tr>\n",
              "      <th>7</th>\n",
              "      <td>XGB</td>\n",
              "      <td>6.82</td>\n",
              "    </tr>\n",
              "  </tbody>\n",
              "</table>\n",
              "</div>\n",
              "      <button class=\"colab-df-convert\" onclick=\"convertToInteractive('df-b53ffca0-1feb-4605-bd66-97092b916510')\"\n",
              "              title=\"Convert this dataframe to an interactive table.\"\n",
              "              style=\"display:none;\">\n",
              "        \n",
              "  <svg xmlns=\"http://www.w3.org/2000/svg\" height=\"24px\"viewBox=\"0 0 24 24\"\n",
              "       width=\"24px\">\n",
              "    <path d=\"M0 0h24v24H0V0z\" fill=\"none\"/>\n",
              "    <path d=\"M18.56 5.44l.94 2.06.94-2.06 2.06-.94-2.06-.94-.94-2.06-.94 2.06-2.06.94zm-11 1L8.5 8.5l.94-2.06 2.06-.94-2.06-.94L8.5 2.5l-.94 2.06-2.06.94zm10 10l.94 2.06.94-2.06 2.06-.94-2.06-.94-.94-2.06-.94 2.06-2.06.94z\"/><path d=\"M17.41 7.96l-1.37-1.37c-.4-.4-.92-.59-1.43-.59-.52 0-1.04.2-1.43.59L10.3 9.45l-7.72 7.72c-.78.78-.78 2.05 0 2.83L4 21.41c.39.39.9.59 1.41.59.51 0 1.02-.2 1.41-.59l7.78-7.78 2.81-2.81c.8-.78.8-2.07 0-2.86zM5.41 20L4 18.59l7.72-7.72 1.47 1.35L5.41 20z\"/>\n",
              "  </svg>\n",
              "      </button>\n",
              "      \n",
              "  <style>\n",
              "    .colab-df-container {\n",
              "      display:flex;\n",
              "      flex-wrap:wrap;\n",
              "      gap: 12px;\n",
              "    }\n",
              "\n",
              "    .colab-df-convert {\n",
              "      background-color: #E8F0FE;\n",
              "      border: none;\n",
              "      border-radius: 50%;\n",
              "      cursor: pointer;\n",
              "      display: none;\n",
              "      fill: #1967D2;\n",
              "      height: 32px;\n",
              "      padding: 0 0 0 0;\n",
              "      width: 32px;\n",
              "    }\n",
              "\n",
              "    .colab-df-convert:hover {\n",
              "      background-color: #E2EBFA;\n",
              "      box-shadow: 0px 1px 2px rgba(60, 64, 67, 0.3), 0px 1px 3px 1px rgba(60, 64, 67, 0.15);\n",
              "      fill: #174EA6;\n",
              "    }\n",
              "\n",
              "    [theme=dark] .colab-df-convert {\n",
              "      background-color: #3B4455;\n",
              "      fill: #D2E3FC;\n",
              "    }\n",
              "\n",
              "    [theme=dark] .colab-df-convert:hover {\n",
              "      background-color: #434B5C;\n",
              "      box-shadow: 0px 1px 3px 1px rgba(0, 0, 0, 0.15);\n",
              "      filter: drop-shadow(0px 1px 2px rgba(0, 0, 0, 0.3));\n",
              "      fill: #FFFFFF;\n",
              "    }\n",
              "  </style>\n",
              "\n",
              "      <script>\n",
              "        const buttonEl =\n",
              "          document.querySelector('#df-b53ffca0-1feb-4605-bd66-97092b916510 button.colab-df-convert');\n",
              "        buttonEl.style.display =\n",
              "          google.colab.kernel.accessAllowed ? 'block' : 'none';\n",
              "\n",
              "        async function convertToInteractive(key) {\n",
              "          const element = document.querySelector('#df-b53ffca0-1feb-4605-bd66-97092b916510');\n",
              "          const dataTable =\n",
              "            await google.colab.kernel.invokeFunction('convertToInteractive',\n",
              "                                                     [key], {});\n",
              "          if (!dataTable) return;\n",
              "\n",
              "          const docLinkHtml = 'Like what you see? Visit the ' +\n",
              "            '<a target=\"_blank\" href=https://colab.research.google.com/notebooks/data_table.ipynb>data table notebook</a>'\n",
              "            + ' to learn more about interactive tables.';\n",
              "          element.innerHTML = '';\n",
              "          dataTable['output_type'] = 'display_data';\n",
              "          await google.colab.output.renderOutput(dataTable, element);\n",
              "          const docLink = document.createElement('div');\n",
              "          docLink.innerHTML = docLinkHtml;\n",
              "          element.appendChild(docLink);\n",
              "        }\n",
              "      </script>\n",
              "    </div>\n",
              "  </div>\n",
              "  "
            ]
          },
          "metadata": {},
          "execution_count": 130
        }
      ],
      "source": [
        "result_df"
      ]
    }
  ],
  "metadata": {
    "colab": {
      "provenance": []
    },
    "kernelspec": {
      "display_name": "Python 3 (ipykernel)",
      "language": "python",
      "name": "python3"
    },
    "language_info": {
      "codemirror_mode": {
        "name": "ipython",
        "version": 3
      },
      "file_extension": ".py",
      "mimetype": "text/x-python",
      "name": "python",
      "nbconvert_exporter": "python",
      "pygments_lexer": "ipython3",
      "version": "3.9.12"
    },
    "toc": {
      "base_numbering": 1,
      "nav_menu": {},
      "number_sections": true,
      "sideBar": true,
      "skip_h1_title": false,
      "title_cell": "Table of Contents",
      "title_sidebar": "Contents",
      "toc_cell": false,
      "toc_position": {},
      "toc_section_display": true,
      "toc_window_display": false
    }
  },
  "nbformat": 4,
  "nbformat_minor": 5
}